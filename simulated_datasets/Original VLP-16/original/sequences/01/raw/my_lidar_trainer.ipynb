{
 "cells": [
  {
   "cell_type": "code",
   "execution_count": 1,
   "metadata": {},
   "outputs": [
    {
     "name": "stdout",
     "output_type": "stream",
     "text": [
      "Jupyter environment detected. Enabling Open3D WebVisualizer.\n",
      "[Open3D INFO] WebRTC GUI backend enabled.\n",
      "[Open3D INFO] WebRTCWindowSystem: HTTP handshake server disabled.\n"
     ]
    }
   ],
   "source": [
    "import numpy as np\n",
    "import os, glob\n",
    "import open3d as o3d\n",
    "import sys\n",
    "from numpy import fromfile\n",
    "from matplotlib import pyplot as plt \n",
    "\n",
    "import random\n",
    "import sys\n",
    "# Set the path to the mavs python api, mavs_interface.py\n",
    "# you will have to change this on your system\n",
    "sys.path.append(r'/home/jinhee/mavs/src/mavs_python/')\n",
    "# Load the mavs python modules\n",
    "import mavs_interface as mavs\n",
    "import mavs_python_paths"
   ]
  },
  {
   "cell_type": "code",
   "execution_count": 2,
   "metadata": {},
   "outputs": [],
   "source": [
    "sequence_num=\"01\"\n",
    "\n",
    "mavs_class_dict ={\n",
    "    1: \"rough trail\",\n",
    "    2: \"low vegetation\",\n",
    "    3: \"high vegetation\",\n",
    "    4: \"smooth trail\",\n",
    "    5: \"obstacle\",    \n",
    "    6: \"vehicle\",\n",
    "    7: \"dust\",\n",
    "    8: \"stop_sign\",\n",
    "    9: \"yield_sign\",\n",
    "    10: \"building\",\n",
    "    11: \"pedestrian\",\n",
    "    12: \"fence\",\n",
    "    13: \"pothole\"\n",
    "}\n"
   ]
  },
  {
   "cell_type": "code",
   "execution_count": 3,
   "metadata": {},
   "outputs": [],
   "source": [
    "# Create the lidar and set the offset\n",
    "lidar = mavs.MavsLidar('VLP-16')"
   ]
  },
  {
   "cell_type": "code",
   "execution_count": 6,
   "metadata": {},
   "outputs": [
    {
     "name": "stderr",
     "output_type": "stream",
     "text": [
      "WARNING: NO LABEL FOUND FOR MESH .//mavs_scene01_surface.obj\n",
      "WARNING: NO LABEL FOUND FOR MESH .//mavs_scene01_surface.obj\n"
     ]
    },
    {
     "name": "stdout",
     "output_type": "stream",
     "text": [
      "WARNING, setting scene with pointer may cause seg fault if scene goes out of scope!\n",
      "0\n",
      "1\n",
      "CPU times: user 7.92 s, sys: 1.16 s, total: 9.09 s\n",
      "Wall time: 8.9 s\n"
     ]
    }
   ],
   "source": [
    "%%time\n",
    "lidar.SetOffset([0.0, 0.0, 1.2],[1.0,0.0,0.0,0.0])\n",
    "\n",
    "# Select a scene and load it\n",
    "mavs_scenefile = '../../../../../scene_files/'+sequence_num+'/mavs_scene'+sequence_num+'_scene.json' \n",
    "\n",
    "# Set the path to the mavs data folder\n",
    "mavs_data_path = mavs_python_paths.mavs_data_path\n",
    "\n",
    "# Select a scene and load it\n",
    "scene = mavs.MavsEmbreeScene()\n",
    "scene.Load(mavs_scenefile)\n",
    "scene.TurnOnLabeling()\n",
    "\n",
    "#--- Load the waypoints that go with this scene ----#\n",
    "waypoints = mavs.MavsWaypoints()\n",
    "waypoints.Load('./mavs_scene'+sequence_num+'_path.vprp')\n",
    "waypoints.PutWaypointsOnGround(scene)\n",
    "\n",
    "# Create a MAVS environment and add the scene to it\n",
    "env = mavs.MavsEnvironment()\n",
    "env.SetScene(scene.scene)\n",
    "\n",
    "# loop over all the poses in the waypoints list\n",
    "for i in range(waypoints.num_waypoints):\n",
    "    print(i)\n",
    "    if i == 0:\n",
    "        current_position = waypoints.GetWaypoint(i)\n",
    "        current_orient = waypoints.GetOrientation(i)\n",
    "\n",
    "        #Set pose of the lidar and scan a frame, saving labeledpoints\n",
    "        lidar.SetPose(current_position,current_orient)\n",
    "        lidar.Update(env,0.1)\n",
    "        lidar.AnnotateFrame(env)\n",
    "        lidar.AnalyzeCloud('labeled_lidar',i,False)\n",
    "        lidar.SetDisplayColorType('label')\n",
    "        \n",
    "        lidar.DisplayPerspective()\n",
    "\n",
    "        lidar.SaveProjectedLidarImage('./bmp/'+str(i).zfill(4)+'.bmp')\n",
    "        lidar.SavePcd('../pcd_velodyne/'+str(i).zfill(6)+'.pcd')\n",
    "        lidar.SaveLabeledPcd('./labeledpcd/labeled_lidar'+str(i).zfill(4)+'.pcd')\n",
    "    else: break\n"
   ]
  },
  {
   "cell_type": "code",
   "execution_count": null,
   "metadata": {},
   "outputs": [],
   "source": [
    "%%time\n",
    "\n",
    "np_all_bins=[]\n",
    "np_all_labels=[]\n",
    "\n",
    "for file in sorted(glob.glob(\"./labeled*.txt\")): \n",
    "    # Text file data converted to integer data type\n",
    "    File_data = np.loadtxt(file, dtype=float)\n",
    "    npy_file_name = \"../velodyne/\"+os.path.basename(file[-10:-4])+\".bin\"\n",
    "    npy_label_file_name = \"../labels/\"+os.path.basename(file[-10:-4])+\".label\"\n",
    "\n",
    "    np_all_bins = np.array(File_data[:,:4], dtype=np.float32)\n",
    "    np_all_labels = np.array(File_data[:,4], dtype=np.uint32)\n",
    "\n",
    "    with open(npy_file_name, 'wb') as f:\n",
    "        f.write(np_all_bins)\n",
    "    \n",
    "    with open(npy_label_file_name, 'wb') as f:\n",
    "        f.write(np_all_labels)\n",
    "    \n",
    "    print(f\"processing {file}...\")"
   ]
  },
  {
   "cell_type": "code",
   "execution_count": null,
   "metadata": {},
   "outputs": [],
   "source": [
    "unique, counts = np.unique(np_all_labels, return_counts=True)\n",
    "print(unique, counts)\n",
    "D = { y_str:count for y_str, count in zip(mavs_class_dict.values(), counts[1:])}\n",
    "\n",
    "print(D)"
   ]
  },
  {
   "cell_type": "code",
   "execution_count": null,
   "metadata": {},
   "outputs": [],
   "source": [
    "img_title=\"Seq.\"+sequence_num+\" Number of Points Visualization\"\n",
    "num_classes = len(unique)\n",
    "n_classes = len(unique)\n",
    "\n",
    "plt.bar(range(len(D)), list(D.values()), align='center')\n",
    "plt.xticks(range(len(D)), list(D.keys()),rotation = 45)\n",
    "plt.xlabel('classes')\n",
    "plt.ylabel('Number of points')\n",
    "plt.title (img_title)\n",
    "\n",
    "img_save_path='../meta_data/'+img_title+'.png'\n",
    "plt.savefig(img_save_path, bbox_inches='tight', format=\"png\")\n",
    "plt.show()\n",
    "\n",
    "print(f\"Total number of points of {sequence_num}: {len(np_all_labels)}\\n\")\n",
    "print(f\"<<Number of points according to each classes>>\\n {D}\\n\")\n",
    "print(f\"Seq.{sequence_num}: The number of the classes : {num_classes}\")\n",
    "\n",
    "with open(\"../meta_data/analysis.txt\", \"w\") as f:\n",
    "    print(f\"Total number of points of {sequence_num}: {len(np_all_labels)}\\n\",file=f)\n",
    "    print(f\"<<Number of points according to each classes>>\\n {D}\\n\",file=f)\n",
    "    print(f\"Seq.{sequence_num}: The number of the classes : {num_classes}\",file=f)"
   ]
  }
 ],
 "metadata": {
  "kernelspec": {
   "display_name": "py38",
   "language": "python",
   "name": "python3"
  },
  "language_info": {
   "codemirror_mode": {
    "name": "ipython",
    "version": 3
   },
   "file_extension": ".py",
   "mimetype": "text/x-python",
   "name": "python",
   "nbconvert_exporter": "python",
   "pygments_lexer": "ipython3",
   "version": "3.8.15"
  },
  "vscode": {
   "interpreter": {
    "hash": "81f806fe9c0c705579eeba28a75186db4019a8333e6280c5dac41f6cbdd084e2"
   }
  }
 },
 "nbformat": 4,
 "nbformat_minor": 4
}
