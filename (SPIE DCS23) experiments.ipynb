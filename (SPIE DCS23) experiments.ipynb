{
 "cells": [
  {
   "attachments": {},
   "cell_type": "markdown",
   "metadata": {},
   "source": [
    "# [SPIE DCS23] Analysis of LiDAR Configurations on Off-road Semantic Segmentation Performance\n",
    "\n",
    "- Author of this note: Jinhee Yu\n",
    "- Last Modified date: 06/06/23\n",
    "- Jupyter notebook for experiments exploring the effect of LiDAR configurations on off-road semantic segmentation performance using (model: Cylinder 3D) and (datasets: MAVS, RELLIS-3D).\n",
    "- The original source code for Cylinder3D can be found at this link  (https://github.com/xinge008/Cylinder3D)"
   ]
  },
  {
   "attachments": {},
   "cell_type": "markdown",
   "metadata": {},
   "source": [
    "## Preparation"
   ]
  },
  {
   "cell_type": "code",
   "execution_count": null,
   "metadata": {
    "colab": {
     "base_uri": "https://localhost:8080/"
    },
    "executionInfo": {
     "elapsed": 37274,
     "status": "ok",
     "timestamp": 1673358131723,
     "user": {
      "displayName": "Orange Red",
      "userId": "08327473239363796244"
     },
     "user_tz": 360
    },
    "id": "vcMPHIfhk64q",
    "outputId": "ccf92e78-8039-47b9-f70d-94e300453f95",
    "scrolled": true
   },
   "outputs": [],
   "source": [
    "# import packages\n",
    "import os, sys  "
   ]
  },
  {
   "cell_type": "code",
   "execution_count": null,
   "metadata": {
    "colab": {
     "base_uri": "https://localhost:8080/"
    },
    "executionInfo": {
     "elapsed": 1463,
     "status": "ok",
     "timestamp": 1673358904270,
     "user": {
      "displayName": "Orange Red",
      "userId": "08327473239363796244"
     },
     "user_tz": 360
    },
    "id": "2-aRZ5m9lQWy",
    "outputId": "e7d13ca7-c0d1-4d5c-d25f-72c96148f6c3",
    "scrolled": true,
    "tags": []
   },
   "outputs": [],
   "source": [
    "# get the current working directory (LidarConfig)\n",
    "pwd = os.getcwd()\n",
    "# change directory to the Cylinder3D folder\n",
    "os.chdir(pwd + \"/third_party/Cylinder3D\") \n",
    "\n",
    "# set the path to the folder containing RELLIS-3D datasets\n",
    "rellis_data_path = \"/media/jinhee/Extreme SSD/Datasets/GIT/Self-supervised-learning-for-Off-road-Autonomous-Driving/processed_datasets/\" \n",
    "# set the path to the folder output will be saved\n",
    "rellis_save_path = \"/media/jinhee/Extreme SSD/SPIE/packages/Cylinder3D/rellis-3d_test_result\""
   ]
  },
  {
   "attachments": {},
   "cell_type": "markdown",
   "metadata": {},
   "source": [
    "## Experiments for RELLIS-3D"
   ]
  },
  {
   "attachments": {},
   "cell_type": "markdown",
   "metadata": {},
   "source": [
    "### Train models"
   ]
  },
  {
   "attachments": {},
   "cell_type": "markdown",
   "metadata": {},
   "source": [
    "#### 32"
   ]
  },
  {
   "cell_type": "code",
   "execution_count": null,
   "metadata": {
    "colab": {
     "base_uri": "https://localhost:8080/"
    },
    "id": "dprrhDUBnFVU",
    "outputId": "b06eede4-8cae-4585-b659-c1f1d952b39b",
    "scrolled": true
   },
   "outputs": [],
   "source": [
    "# Train model on 32-beam data\n",
    "!sh \"(vel)rellis-3d_train.sh\""
   ]
  },
  {
   "attachments": {},
   "cell_type": "markdown",
   "metadata": {},
   "source": [
    "#### 64"
   ]
  },
  {
   "cell_type": "code",
   "execution_count": null,
   "metadata": {
    "scrolled": true
   },
   "outputs": [],
   "source": [
    "# Train model on 64-beam data\n",
    "!sh \"rellis-3d_train.sh\""
   ]
  },
  {
   "attachments": {},
   "cell_type": "markdown",
   "metadata": {
    "tags": []
   },
   "source": [
    "### Test models"
   ]
  },
  {
   "attachments": {},
   "cell_type": "markdown",
   "metadata": {},
   "source": [
    "#### 32 - 32"
   ]
  },
  {
   "cell_type": "code",
   "execution_count": null,
   "metadata": {
    "colab": {
     "base_uri": "https://localhost:8080/"
    },
    "executionInfo": {
     "elapsed": 1179,
     "status": "ok",
     "timestamp": 1673358056669,
     "user": {
      "displayName": "Orange Red",
      "userId": "08327473239363796244"
     },
     "user_tz": 360
    },
    "id": "lS69p74sg-6L",
    "outputId": "71820a7a-7fa2-49a9-f603-7d71d7299e5e",
    "scrolled": true
   },
   "outputs": [],
   "source": [
    "# Test the model trained on 32-beam data on 32-beam data\n",
    "\n",
    "# --demo-folder: path to the folder containing the point clouds\n",
    "# --save-folder: path to the folder where the output will be saved\n",
    "# --demo-label-folder: path to the folder containing the ground truth labels\n",
    "\n",
    "!python \"(vel)rellis-3d_demo_folder.py\" --demo-folder '{data_path}'\"/Rellis-3D/[vel] Rellis-3D (original train-valid-test)/02/velodyne\"  --save-folder '{save_path}'\"/rellis-3d_test_result/32-32/\" --demo-label-folder '{data_path}'\"/Rellis-3D/[vel] Rellis-3D (original train-valid-test)/02/labels\""
   ]
  },
  {
   "attachments": {},
   "cell_type": "markdown",
   "metadata": {},
   "source": [
    "#### 64 - 64"
   ]
  },
  {
   "cell_type": "code",
   "execution_count": null,
   "metadata": {
    "scrolled": true
   },
   "outputs": [],
   "source": [
    "# Test the model trained on 64-beam data on 64-beam data\n",
    "!python \"rellis-3d_demo_folder.py\" --demo-folder '{data_path}'\"/Rellis-3D/[Ouster] Rellis-3D (original train-valid-test)/02/velodyne\" --save-folder '{save_path}'\"/rellis-3d_test_result/64-64/\" --demo-label-folder '{data_path}'\"/Rellis-3D/[Ouster] Rellis-3D (original train-valid-test)/02/labels\""
   ]
  },
  {
   "attachments": {},
   "cell_type": "markdown",
   "metadata": {},
   "source": [
    "#### 32 - 64"
   ]
  },
  {
   "cell_type": "code",
   "execution_count": null,
   "metadata": {
    "scrolled": true
   },
   "outputs": [],
   "source": [
    "# Test the model trained on 32-beam data on 64-beam data\n",
    "!python \"(vel)rellis-3d_demo_folder.py\" --demo-folder '{data_path}'\"/Rellis-3D/[Ouster] Rellis-3D (original train-valid-test)/02/velodyne\"   --save-folder '{save_path}'\"rellis-3d_test_result/32-64\" --demo-label-folder '{data_path}'\"/Rellis-3D/[Ouster] Rellis-3D (original train-valid-test)/02/labels\""
   ]
  },
  {
   "attachments": {},
   "cell_type": "markdown",
   "metadata": {},
   "source": [
    "#### 64-32"
   ]
  },
  {
   "cell_type": "code",
   "execution_count": null,
   "metadata": {
    "scrolled": true
   },
   "outputs": [],
   "source": [
    "# Test the model trained on 64-beam data on 32-beam data\n",
    "!python \"rellis-3d_demo_folder.py\" --demo-folder '{data_path}'\"/Rellis-3D/[vel] Rellis-3D (original train-valid-test)/02/velodyne\"  --save-folder '{save_path}'\"/rellis-3d_test_result/64-32/\" --demo-label-folder '{data_path}'\"/Rellis-3D/[vel] Rellis-3D (original train-valid-test)/02/labels\""
   ]
  },
  {
   "attachments": {},
   "cell_type": "markdown",
   "metadata": {
    "tags": []
   },
   "source": [
    "## Experiments for MAVS"
   ]
  },
  {
   "cell_type": "code",
   "execution_count": null,
   "metadata": {},
   "outputs": [],
   "source": [
    "# set the path to the folder containing MAVS datasets\n",
    "mavs_data_path = \"/media/jinhee/Extreme SSD/SPIE-vlp-16-experiments/\" \n",
    "\n",
    "# set the path to the folder output will be saved\n",
    "mavs_save_path = \"/media/jinhee/Extreme SSD/SPIE/packages/Cylinder3D/new_mavs_test_results/\""
   ]
  },
  {
   "attachments": {},
   "cell_type": "markdown",
   "metadata": {},
   "source": [
    "### Original VLP-16"
   ]
  },
  {
   "attachments": {},
   "cell_type": "markdown",
   "metadata": {},
   "source": [
    "#### Train (64-beam: vlp-16)"
   ]
  },
  {
   "cell_type": "code",
   "execution_count": null,
   "metadata": {
    "scrolled": true
   },
   "outputs": [],
   "source": [
    "# Train model on (64-beam: vlp-16)\n",
    "!sh \"new_mavs_16_train.sh\""
   ]
  },
  {
   "attachments": {},
   "cell_type": "markdown",
   "metadata": {},
   "source": [
    "#### Test"
   ]
  },
  {
   "cell_type": "code",
   "execution_count": null,
   "metadata": {
    "scrolled": true,
    "tags": []
   },
   "outputs": [],
   "source": [
    "# original - original \n",
    "!python \"new_mavs_16_demo_folder.py\" --demo-folder '{mavs_data_path}'\"Original VLP-16/sequences/01/velodyne\"  --save-folder '{mavs_save_path}'\"original-16-16\" --demo-label-folder '{mavs_data_path}'\"sequences/01/labels\""
   ]
  },
  {
   "cell_type": "code",
   "execution_count": null,
   "metadata": {
    "scrolled": true
   },
   "outputs": [],
   "source": [
    "# original (100m) - 150m\n",
    "!python \"new_mavs_16_demo_folder.py\" --demo-folder '{mavs_data_path}'\"VLP-16-diff-Range/150m/sequences/01/velodyne\"  --save-folder '{mavs_save_path}'\"100m-150m\" --demo-label-folder '{mavs_data_path}'\"VLP-16-diff-Range/150m/sequences/01/labels\""
   ]
  },
  {
   "cell_type": "code",
   "execution_count": null,
   "metadata": {
    "scrolled": true
   },
   "outputs": [],
   "source": [
    "# original (100m) - 200m\n",
    "!python \"new_mavs_16_demo_folder.py\" --demo-folder '{mavs_data_path}'\"VLP-16-diff-Range/200m/sequences/01/velodyne\"  --save-folder '{mavs_save_path}'\"100m-200m\" --demo-label-folder '{mavs_data_path}'\"VLP-16-diff-Range/200m/sequences/01/labels\""
   ]
  },
  {
   "cell_type": "code",
   "execution_count": null,
   "metadata": {},
   "outputs": [],
   "source": [
    "# original [-15, 15] - [-10, 20] \n",
    "!python \"new_mavs_16_demo_folder.py\" --demo-folder '{mavs_data_path}'\"VLP-16-FOV/[-10,20]/sequences/01/velodyne\"  --save-folder '{mavs_save_path}'\"original-higher_FOV\" --demo-label-folder '{mavs_data_path}'\"VLP-16-FOV/[-10,20]/sequences/01/labels\""
   ]
  },
  {
   "cell_type": "code",
   "execution_count": null,
   "metadata": {},
   "outputs": [],
   "source": [
    "# original [-15, 15] - [-20, 10] \n",
    "!python \"new_mavs_16_demo_folder.py\" --demo-folder '{mavs_data_path}'\"VLP-16-FOV/[-20,10]/sequences/01/velodyne\"  --save-folder '{mavs_save_path}'\"original-lower_FOV\" --demo-label-folder '{mavs_data_path}'\"VLP-16-FOV/[-20,10]/sequences/01/labels\""
   ]
  },
  {
   "cell_type": "code",
   "execution_count": null,
   "metadata": {},
   "outputs": [],
   "source": [
    "# original pose - up\n",
    "!python \"new_mavs_16_demo_folder.py\" --demo-folder  '{mavs_data_path}'\"VLP-16-diff-pos/up/sequences/01/velodyne\" --save-folder '{mavs_save_path}'\"original-pose_up\" --demo-label-folder  '{mavs_data_path}'\"VLP-16-diff-pos/up/sequences/01/labels\""
   ]
  },
  {
   "cell_type": "code",
   "execution_count": null,
   "metadata": {},
   "outputs": [],
   "source": [
    "# original pose - down\n",
    "!python \"new_mavs_16_demo_folder.py\" --demo-folder  '{mavs_data_path}'\"VLP-16-diff-pos/down/sequences/01/velodyne\" --save-folder '{mavs_save_path}'\"original-pose_down\" --demo-label-folder  '{mavs_data_path}'\"VLP-16-diff-pos/down/sequences/01/labels\""
   ]
  },
  {
   "cell_type": "code",
   "execution_count": null,
   "metadata": {},
   "outputs": [],
   "source": [
    "# original pose - left\n",
    "!python \"new_mavs_16_demo_folder.py\" --demo-folder  '{mavs_data_path}'\"VLP-16-diff-pos/left/sequences/01/velodyne\" --save-folder '{mavs_save_path}'\"original-pose_left\" --demo-label-folder  '{mavs_data_path}'\"VLP-16-diff-pos/left/sequences/01/labels\""
   ]
  },
  {
   "cell_type": "code",
   "execution_count": null,
   "metadata": {},
   "outputs": [],
   "source": [
    "# original pose - right\n",
    "!python \"new_mavs_16_demo_folder.py\" --demo-folder  '{mavs_data_path}'\"VLP-16-diff-pos/right/sequences/01/velodyne\" --save-folder '{mavs_save_path}'\"original-pose_right\" --demo-label-folder  '{mavs_data_path}'\"VLP-16-diff-pos/right/sequences/01/labels\""
   ]
  },
  {
   "cell_type": "code",
   "execution_count": null,
   "metadata": {},
   "outputs": [],
   "source": [
    "# original (vres: 16) - (vres: 32)\n",
    "!python \"new_mavs_16_demo_folder.py\" --demo-folder '{mavs_data_path}'\"VLP-16-diff-Vres/32/sequences/01/velodyne\"  --save-folder '{mavs_save_path}'\"16-32\" --demo-label-folder '{mavs_data_path}'\"VLP-16-diff-Vres/32/sequences/01/labels\""
   ]
  },
  {
   "cell_type": "code",
   "execution_count": null,
   "metadata": {},
   "outputs": [],
   "source": [
    "# original (vres: 16) - (vres: 64)\n",
    "!python \"new_mavs_16_demo_folder.py\" --demo-folder '{mavs_data_path}'\"VLP-16-diff-Vres/64/sequences/01/velodyne\"  --save-folder '{mavs_save_path}'\"16-64\" --demo-label-folder '{mavs_data_path}'\"VLP-16-diff-Vres/64/sequences/01/labels\""
   ]
  },
  {
   "cell_type": "code",
   "execution_count": null,
   "metadata": {},
   "outputs": [],
   "source": [
    "# original (hres: 0.2) - (hres: 0.4)\n",
    "!python \"new_mavs_16_demo_folder.py\"  --demo-folder '{mavs_data_path}'\"VLP-16--diff-Hres/0.4/sequences/01/velodyne\" --save-folder '{mavs_save_path}'\"original-hres4\" --demo-label-folder '{mavs_data_path}'\"VLP-16--diff-Hres/0.4/sequences/01/labels\""
   ]
  },
  {
   "cell_type": "code",
   "execution_count": null,
   "metadata": {},
   "outputs": [],
   "source": [
    "# original (hres: 0.2) - (hres: 0.1)\n",
    "!python \"new_mavs_16_demo_folder.py\" --demo-folder '{mavs_data_path}'\"VLP-16--diff-Hres/0.1/sequences/01/velodyne\" --save-folder '{mavs_save_path}'\"original-hres1\" --demo-label-folder '{mavs_data_path}'\"VLP-16--diff-Hres/0.1/sequences/01/labels\""
   ]
  },
  {
   "attachments": {},
   "cell_type": "markdown",
   "metadata": {},
   "source": [
    "### VLP-16 150m"
   ]
  },
  {
   "attachments": {},
   "cell_type": "markdown",
   "metadata": {},
   "source": [
    "#### Train"
   ]
  },
  {
   "cell_type": "code",
   "execution_count": null,
   "metadata": {
    "scrolled": true,
    "tags": []
   },
   "outputs": [],
   "source": [
    "# training (64-beam: vlp-16-150m)\n",
    "!sh \"new_mavs_16-150_train.sh\""
   ]
  },
  {
   "attachments": {},
   "cell_type": "markdown",
   "metadata": {},
   "source": [
    "#### Test"
   ]
  },
  {
   "cell_type": "code",
   "execution_count": null,
   "metadata": {
    "scrolled": true
   },
   "outputs": [],
   "source": [
    "# test 150 - 150m\n",
    "!python \"new_mavs_16-150_demo_folder.py\" --demo-folder '{mavs_data_path}'\"VLP-16-diff-Range/150m/sequences/01/velodyne\"  --save-folder '{mavs_save_path}'\"150m-16-16\" --demo-label-folder '{mavs_data_path}'\"VLP-16-diff-Range/150m/sequences/01/labels\""
   ]
  },
  {
   "cell_type": "code",
   "execution_count": null,
   "metadata": {},
   "outputs": [],
   "source": [
    "# test 150 - 200m\n",
    "!python \"new_mavs_16-150_demo_folder.py\" --demo-folder '{mavs_data_path}'\"VLP-16-diff-Range/200m/sequences/01/velodyne\"  --save-folder '{mavs_save_path}'\"150m-200m\" --demo-label-folder '{mavs_data_path}'\"VLP-16-diff-Range/200m/sequences/01/labels\""
   ]
  },
  {
   "cell_type": "code",
   "execution_count": null,
   "metadata": {},
   "outputs": [],
   "source": [
    "# test 150m - original (100m) \n",
    "!python \"new_mavs_16-150_demo_folder.py\" --demo-folder '{mavs_data_path}'\"Original VLP-16/sequences/01/velodyne\"  --save-folder '{mavs_save_path}'\"150m-100m\" --demo-label-folder '{mavs_data_path}'\"Original VLP-16/sequences/01/labels\""
   ]
  },
  {
   "attachments": {},
   "cell_type": "markdown",
   "metadata": {},
   "source": [
    "### VLP-16 200m"
   ]
  },
  {
   "attachments": {},
   "cell_type": "markdown",
   "metadata": {},
   "source": [
    "#### Train"
   ]
  },
  {
   "cell_type": "code",
   "execution_count": null,
   "metadata": {
    "scrolled": true
   },
   "outputs": [],
   "source": [
    "# training (64-beam: vlp-16-200m)\n",
    "!sh \"new_mavs_16-200_train.sh\""
   ]
  },
  {
   "attachments": {},
   "cell_type": "markdown",
   "metadata": {},
   "source": [
    "#### Test"
   ]
  },
  {
   "cell_type": "code",
   "execution_count": null,
   "metadata": {
    "scrolled": true,
    "tags": []
   },
   "outputs": [],
   "source": [
    "# test 200 - 200m\n",
    "!python \"new_mavs_16-200_demo_folder.py\" --demo-folder '{mavs_data_path}'\"VLP-16-diff-Range/200m/sequences/01/velodyne\"  --save-folder '{mavs_save_path}'\"200m-16-16\" --demo-label-folder '{mavs_data_path}'\"VLP-16-diff-Range/200m/sequences/01/labels\""
   ]
  },
  {
   "cell_type": "code",
   "execution_count": null,
   "metadata": {},
   "outputs": [],
   "source": [
    "# test 200 - 150m\n",
    "!python \"new_mavs_16-200_demo_folder.py\" --demo-folder '{mavs_data_path}'\"VLP-16-diff-Range/150m/sequences/01/velodyne\"  --save-folder '{mavs_save_path}'\"200m-150m\" --demo-label-folder '{mavs_data_path}'\"VLP-16-diff-Range/150m/sequences/01/labels\""
   ]
  },
  {
   "cell_type": "code",
   "execution_count": null,
   "metadata": {},
   "outputs": [],
   "source": [
    "# test 200 - original (100m) \n",
    "\n",
    "!python \"new_mavs_16-200_demo_folder.py\" --demo-folder '{mavs_data_path}'\"Original VLP-16/sequences/01/velodyne\"  --save-folder '{mavs_save_path}'\"200m-100m\" --demo-label-folder '{mavs_data_path}'\"Original VLP-16/sequences/01/labels\""
   ]
  },
  {
   "attachments": {},
   "cell_type": "markdown",
   "metadata": {},
   "source": [
    "### VLP-16 [-10,20]: Higher FOV"
   ]
  },
  {
   "attachments": {},
   "cell_type": "markdown",
   "metadata": {},
   "source": [
    "#### Train"
   ]
  },
  {
   "cell_type": "code",
   "execution_count": null,
   "metadata": {
    "scrolled": true
   },
   "outputs": [],
   "source": [
    "# train on data with higher FOV: [-10,20]\n",
    "!sh \"new_mavs_16-high_train.sh\""
   ]
  },
  {
   "attachments": {},
   "cell_type": "markdown",
   "metadata": {},
   "source": [
    "#### Test"
   ]
  },
  {
   "cell_type": "code",
   "execution_count": null,
   "metadata": {
    "scrolled": true,
    "tags": []
   },
   "outputs": [],
   "source": [
    "# [-10, 20] - [-10, 20]\n",
    "!python \"new_mavs_16-high_demo_folder.py\" --demo-folder '{mavs_data_path}'\"VLP-16-FOV/[-10,20]/sequences/01/velodyne\"  --save-folder '{mavs_save_path}'\"high-16-16\" --demo-label-folder '{mavs_data_path}'\"VLP-16-FOV/[-10,20]/sequences/01/labels\""
   ]
  },
  {
   "cell_type": "code",
   "execution_count": null,
   "metadata": {
    "scrolled": true,
    "tags": []
   },
   "outputs": [],
   "source": [
    "# [-10, 20] - [-20, 10]\n",
    "!python \"new_mavs_16-high_demo_folder.py\" --demo-folder '{mavs_data_path}'\"VLP-16-FOV/[-20,10]/sequences/01/velodyne\"  --save-folder '{mavs_save_path}'\"high-low\" --demo-label-folder '{mavs_data_path}'\"VLP-16-FOV/[-20,10]/sequences/01/labels\""
   ]
  },
  {
   "cell_type": "code",
   "execution_count": null,
   "metadata": {},
   "outputs": [],
   "source": [
    "# [-10, 20] - original [-15, 15]\n",
    "!python \"new_mavs_16-high_demo_folder.py\" --demo-folder '{mavs_data_path}'\"Original VLP-16/sequences/01/velodyne\"  --save-folder '{mavs_save_path}'\"fov_up-original\" --demo-label-folder '{mavs_data_path}'\"Original VLP-16/sequences/01/labels\""
   ]
  },
  {
   "attachments": {},
   "cell_type": "markdown",
   "metadata": {},
   "source": [
    "### VLP-16 [ -20, 10 ]: Lower FOV"
   ]
  },
  {
   "attachments": {},
   "cell_type": "markdown",
   "metadata": {},
   "source": [
    "#### Train"
   ]
  },
  {
   "cell_type": "code",
   "execution_count": null,
   "metadata": {
    "scrolled": true
   },
   "outputs": [],
   "source": [
    "# train on data with higher FOV: [-20,10]\n",
    "!sh \"new_mavs_16-low_train.sh\""
   ]
  },
  {
   "attachments": {},
   "cell_type": "markdown",
   "metadata": {},
   "source": [
    "#### Test"
   ]
  },
  {
   "cell_type": "code",
   "execution_count": null,
   "metadata": {
    "scrolled": true,
    "tags": []
   },
   "outputs": [],
   "source": [
    "# [-20, 10] - [-20, 10]\n",
    "!python \"new_mavs_16-low_demo_folder.py\" --demo-folder '{mavs_data_path}'\"VLP-16-FOV/[-20,10]/sequences/01/velodyne\"  --save-folder '{mavs_save_path}'\"low-16-16\" --demo-label-folder '{mavs_data_path}'\"VLP-16-FOV/[-20,10]/sequences/01/labels\""
   ]
  },
  {
   "cell_type": "code",
   "execution_count": null,
   "metadata": {},
   "outputs": [],
   "source": [
    "# [-20, 10] - [-10, 20] \n",
    "!python \"new_mavs_16-low_demo_folder.py\" --demo-folder '{mavs_data_path}'\"VLP-16-FOV/[-10,20]/sequences/01/velodyne\"  --save-folder '{mavs_save_path}'\"low-high\" --demo-label-folder '{mavs_data_path}'\"VLP-16-FOV/[-10,20]/sequences/01/labels\""
   ]
  },
  {
   "cell_type": "code",
   "execution_count": null,
   "metadata": {},
   "outputs": [],
   "source": [
    "# [-20, 10] - original [-15, 15]\n",
    "!python \"new_mavs_16-low_demo_folder.py\" --demo-folder '{mavs_data_path}'\"Original VLP-16/sequences/01/velodyne\"  --save-folder '{mavs_save_path}'\"fov_down-original\" --demo-label-folder '{mavs_data_path}'\"Original VLP-16/sequences/01/labels\""
   ]
  },
  {
   "attachments": {},
   "cell_type": "markdown",
   "metadata": {},
   "source": [
    "### VLP-16 vres:32"
   ]
  },
  {
   "attachments": {},
   "cell_type": "markdown",
   "metadata": {},
   "source": [
    "#### Train"
   ]
  },
  {
   "cell_type": "code",
   "execution_count": null,
   "metadata": {
    "scrolled": true,
    "tags": []
   },
   "outputs": [],
   "source": [
    "# train on data with vres 32\n",
    "!sh \"new_mavs_16-vres32_train.sh\""
   ]
  },
  {
   "attachments": {},
   "cell_type": "markdown",
   "metadata": {},
   "source": [
    "#### Test"
   ]
  },
  {
   "cell_type": "code",
   "execution_count": null,
   "metadata": {
    "scrolled": true,
    "tags": []
   },
   "outputs": [],
   "source": [
    "#(vres: 32) -  (vres: 32)\n",
    "!python \"new_mavs_16-vres32_demo_folder.py\" --demo-folder '{mavs_data_path}'\"VLP-16-diff-Vres/32/sequences/01/velodyne\"  --save-folder '{mavs_save_path}'\"vres32-16-16\" --demo-label-folder '{mavs_data_path}'\"VLP-16-diff-Vres/32/sequences/01/labels\""
   ]
  },
  {
   "cell_type": "code",
   "execution_count": null,
   "metadata": {},
   "outputs": [],
   "source": [
    "#(vres: 32) -  (vres: 64)\n",
    "!python \"new_mavs_16-vres32_demo_folder.py\" --demo-folder '{mavs_data_path}'\"VLP-16-diff-Vres/64/sequences/01/velodyne\"  --save-folder '{mavs_save_path}'\"vres32-vres64\" --demo-label-folder '{mavs_data_path}'\"VLP-16-diff-Vres/64/sequences/01/labels\""
   ]
  },
  {
   "cell_type": "code",
   "execution_count": null,
   "metadata": {},
   "outputs": [],
   "source": [
    "# (vres: 32) - original (vres: 16)\n",
    "!python \"new_mavs_16-vres32_demo_folder.py\" --demo-folder '{mavs_data_path}'\"Original VLP-16/sequences/01/velodyne\"  --save-folder '{mavs_save_path}'\"32-16\" --demo-label-folder '{mavs_data_path}'\"Original VLP-16/sequences/01/labels\""
   ]
  },
  {
   "attachments": {},
   "cell_type": "markdown",
   "metadata": {
    "tags": []
   },
   "source": [
    "### VLP-16 vres:64"
   ]
  },
  {
   "attachments": {},
   "cell_type": "markdown",
   "metadata": {},
   "source": [
    "#### Train"
   ]
  },
  {
   "cell_type": "code",
   "execution_count": null,
   "metadata": {
    "scrolled": true,
    "tags": []
   },
   "outputs": [],
   "source": [
    "# train on data with vres 64\n",
    "!sh \"new_mavs_16-vres64_train.sh\""
   ]
  },
  {
   "attachments": {},
   "cell_type": "markdown",
   "metadata": {},
   "source": [
    "#### Test"
   ]
  },
  {
   "cell_type": "code",
   "execution_count": null,
   "metadata": {
    "scrolled": true,
    "tags": []
   },
   "outputs": [],
   "source": [
    "#(vres: 64) - (vres: 64)\n",
    "!python \"new_mavs_16-vres64_demo_folder.py\" --demo-folder '{mavs_data_path}'\"VLP-16-diff-Vres/64/sequences/01/velodyne\"  --save-folder '{mavs_save_path}'\"vres64-16-16\" --demo-label-folder '{mavs_data_path}'\"VLP-16-diff-Vres/64/sequences/01/labels\""
   ]
  },
  {
   "cell_type": "code",
   "execution_count": null,
   "metadata": {
    "scrolled": true
   },
   "outputs": [],
   "source": [
    "# (vres: 64) - (vres: 32)\n",
    "!python \"new_mavs_16-vres64_demo_folder.py\" --demo-folder '{mavs_data_path}'\"VLP-16-diff-Vres/32/sequences/01/velodyne\"  --save-folder '{mavs_save_path}'\"vres64-32-16-16\" --demo-label-folder '{mavs_data_path}'\"VLP-16-diff-Vres/32/sequences/01/labels\""
   ]
  },
  {
   "cell_type": "code",
   "execution_count": null,
   "metadata": {
    "scrolled": true,
    "tags": []
   },
   "outputs": [],
   "source": [
    "# (vres: 64) - original (vres: 16) \n",
    "\n",
    "!python \"new_mavs_16-vres64_demo_folder.py\" --demo-folder '{mavs_data_path}'\"Original VLP-16/sequences/01/velodyne\" --save-folder '{mavs_save_path}'\"64-16\" --demo-label-folder '{mavs_data_path}'\"Original VLP-16/sequences/01/labels\""
   ]
  },
  {
   "attachments": {},
   "cell_type": "markdown",
   "metadata": {},
   "source": [
    "### VLP-16 hres: 0.1"
   ]
  },
  {
   "attachments": {},
   "cell_type": "markdown",
   "metadata": {},
   "source": [
    "#### Train"
   ]
  },
  {
   "cell_type": "code",
   "execution_count": null,
   "metadata": {
    "scrolled": true
   },
   "outputs": [],
   "source": [
    "# train on data with hres 0.1\n",
    "!sh \"new_mavs_16-hres1_train.sh\""
   ]
  },
  {
   "attachments": {},
   "cell_type": "markdown",
   "metadata": {},
   "source": [
    "#### Test"
   ]
  },
  {
   "cell_type": "code",
   "execution_count": null,
   "metadata": {
    "scrolled": true,
    "tags": []
   },
   "outputs": [],
   "source": [
    "# (hres: 0.1) - (hres: 0.1)\n",
    "!python \"new_mavs_16-hres1_demo_folder.py\" --demo-folder '{mavs_data_path}'\"VLP-16--diff-Hres/0.1/sequences/01/velodyne\" --save-folder '{mavs_save_path}'\"hres1\" --demo-label-folder '{mavs_data_path}'\"VLP-16--diff-Hres/0.1/sequences/01/labels\""
   ]
  },
  {
   "cell_type": "code",
   "execution_count": null,
   "metadata": {},
   "outputs": [],
   "source": [
    "# (hres: 0.1) - original (hres: 0.2) \n",
    "!python \"new_mavs_16-hres1_demo_folder.py\" --demo-folder '{mavs_data_path}'\"Original VLP-16/sequences/01/velodyne\"  --save-folder '{mavs_save_path}'\"original-16-16\" --demo-label-folder '{mavs_data_path}'\"Original VLP-16/sequences/01/labels\""
   ]
  },
  {
   "attachments": {},
   "cell_type": "markdown",
   "metadata": {
    "tags": []
   },
   "source": [
    "### VLP-16 hres: 0.4"
   ]
  },
  {
   "attachments": {},
   "cell_type": "markdown",
   "metadata": {},
   "source": [
    "#### Train"
   ]
  },
  {
   "cell_type": "code",
   "execution_count": null,
   "metadata": {
    "scrolled": true
   },
   "outputs": [],
   "source": [
    "# train on data with hres 0.4\n",
    "!sh \"new_mavs_16-hres4_train.sh\""
   ]
  },
  {
   "attachments": {},
   "cell_type": "markdown",
   "metadata": {},
   "source": [
    "#### Test"
   ]
  },
  {
   "cell_type": "code",
   "execution_count": null,
   "metadata": {
    "scrolled": true,
    "tags": []
   },
   "outputs": [],
   "source": [
    "# (hres: 0.4) - (hres: 0.4)\n",
    "!python \"new_mavs_16-hres4_demo_folder.py\" --demo-folder '{mavs_data_path}'\"VLP-16--diff-Hres/0.4/sequences/01/velodyne\" --save-folder '{mavs_save_path}'\"hres4\" --demo-label-folder '{mavs_data_path}'\"VLP-16--diff-Hres/0.4/sequences/01/labels\""
   ]
  },
  {
   "cell_type": "code",
   "execution_count": null,
   "metadata": {},
   "outputs": [],
   "source": [
    "#(hres: 0.4) - (hres: 0.1)\n",
    "!python \"new_mavs_16-hres4_demo_folder.py\"  --demo-folder '{mavs_data_path}'\"VLP-16--diff-Hres/0.1/sequences/01/velodyne\" --save-folder '{mavs_save_path}'\"hres4-hres1\" --demo-label-folder '{mavs_data_path}'\"VLP-16--diff-Hres/0.1/sequences/01/labels\""
   ]
  },
  {
   "cell_type": "code",
   "execution_count": null,
   "metadata": {},
   "outputs": [],
   "source": [
    "# (hres: 0.4) - original (hres: 0.2) \n",
    "!python \"new_mavs_16-hres4_demo_folder.py\" --demo-folder '{mavs_data_path}'\"Original VLP-16/sequences/01/velodyne\"  --save-folder '{mavs_save_path}'\"hres4-hres2\" --demo-label-folder '{mavs_data_path}'\"Original VLP-16/sequences/01/labels\""
   ]
  },
  {
   "attachments": {},
   "cell_type": "markdown",
   "metadata": {
    "tags": []
   },
   "source": [
    "### VLP-16 pose up"
   ]
  },
  {
   "attachments": {},
   "cell_type": "markdown",
   "metadata": {},
   "source": [
    "#### Train"
   ]
  },
  {
   "cell_type": "code",
   "execution_count": null,
   "metadata": {
    "scrolled": true
   },
   "outputs": [],
   "source": [
    "# train on data with high pose\n",
    "!sh \"new_mavs_16-pose-up_train.sh\""
   ]
  },
  {
   "attachments": {},
   "cell_type": "markdown",
   "metadata": {},
   "source": [
    "#### Test"
   ]
  },
  {
   "cell_type": "code",
   "execution_count": null,
   "metadata": {
    "scrolled": true
   },
   "outputs": [],
   "source": [
    "# [pose_up] - [pose_up]\n",
    "!python \"new_mavs_16-pose-up_demo_folder.py\" --demo-folder  '{mavs_data_path}'\"VLP-16-diff-pos/up/sequences/01/velodyne\" --save-folder '{mavs_save_path}'\"pose-up\" --demo-label-folder  '{mavs_data_path}'\"VLP-16-diff-pos/up/sequences/01/labels\""
   ]
  },
  {
   "attachments": {},
   "cell_type": "markdown",
   "metadata": {},
   "source": [
    "### VLP-16 pose down"
   ]
  },
  {
   "attachments": {},
   "cell_type": "markdown",
   "metadata": {},
   "source": [
    "#### Train"
   ]
  },
  {
   "cell_type": "code",
   "execution_count": null,
   "metadata": {
    "scrolled": true
   },
   "outputs": [],
   "source": [
    "# train on data with low pose\n",
    "!sh \"new_mavs_16-pose-down_train.sh\""
   ]
  },
  {
   "attachments": {},
   "cell_type": "markdown",
   "metadata": {},
   "source": [
    "#### Test"
   ]
  },
  {
   "cell_type": "code",
   "execution_count": null,
   "metadata": {
    "scrolled": true
   },
   "outputs": [],
   "source": [
    "# [pose_down] - [pose_down]\n",
    "!python \"new_mavs_16-pose-down_demo_folder.py\" --demo-folder  '{mavs_data_path}'\"VLP-16-diff-pos/down/sequences/01/velodyne\" --save-folder '{mavs_save_path}'\"pose-down\" --demo-label-folder  '{mavs_data_path}'\"VLP-16-diff-pos/down/sequences/01/labels\""
   ]
  },
  {
   "attachments": {},
   "cell_type": "markdown",
   "metadata": {},
   "source": [
    "### VLP-16 pose left"
   ]
  },
  {
   "attachments": {},
   "cell_type": "markdown",
   "metadata": {},
   "source": [
    "#### Train"
   ]
  },
  {
   "cell_type": "code",
   "execution_count": null,
   "metadata": {
    "scrolled": true
   },
   "outputs": [],
   "source": [
    "# train on data with left pose\n",
    "!sh \"new_mavs_16-pose-left_train.sh\""
   ]
  },
  {
   "attachments": {},
   "cell_type": "markdown",
   "metadata": {},
   "source": [
    "#### Test"
   ]
  },
  {
   "cell_type": "code",
   "execution_count": null,
   "metadata": {
    "scrolled": true
   },
   "outputs": [],
   "source": [
    "# [pose_left] - [pose_left]\n",
    "!python \"new_mavs_16-pose-left_demo_folder.py\" --demo-folder  '{mavs_data_path}'\"VLP-16-diff-pos/left/sequences/01/velodyne\" --save-folder '{mavs_save_path}'\"pose-left\" --demo-label-folder  '{mavs_data_path}'\"VLP-16-diff-pos/left/sequences/01/labels\""
   ]
  },
  {
   "attachments": {},
   "cell_type": "markdown",
   "metadata": {},
   "source": [
    "### VLP-16 pose right"
   ]
  },
  {
   "attachments": {},
   "cell_type": "markdown",
   "metadata": {},
   "source": [
    "#### Train"
   ]
  },
  {
   "cell_type": "code",
   "execution_count": null,
   "metadata": {
    "scrolled": true
   },
   "outputs": [],
   "source": [
    "# train on data with right pose\n",
    "!sh \"new_mavs_16-pose-right_train.sh\""
   ]
  },
  {
   "attachments": {},
   "cell_type": "markdown",
   "metadata": {},
   "source": [
    "#### Test"
   ]
  },
  {
   "cell_type": "code",
   "execution_count": null,
   "metadata": {
    "scrolled": true
   },
   "outputs": [],
   "source": [
    "# [pose_right] - [pose_right]\n",
    "!python \"new_mavs_16-pose-right_demo_folder.py\" --demo-folder  '{mavs_data_path}'\"VLP-16-diff-pos/right/sequences/01/velodyne\" --save-folder '{mavs_save_path}'\"pose-right\" --demo-label-folder  '{mavs_data_path}'\"VLP-16-diff-pos/right/sequences/01/labels\""
   ]
  }
 ],
 "metadata": {
  "accelerator": "GPU",
  "colab": {
   "machine_shape": "hm",
   "provenance": []
  },
  "gpuClass": "premium",
  "kernelspec": {
   "display_name": "Python 3 (ipykernel)",
   "language": "python",
   "name": "python3"
  },
  "language_info": {
   "codemirror_mode": {
    "name": "ipython",
    "version": 3
   },
   "file_extension": ".py",
   "mimetype": "text/x-python",
   "name": "python",
   "nbconvert_exporter": "python",
   "pygments_lexer": "ipython3",
   "version": "3.8.16"
  },
  "vscode": {
   "interpreter": {
    "hash": "81f806fe9c0c705579eeba28a75186db4019a8333e6280c5dac41f6cbdd084e2"
   }
  }
 },
 "nbformat": 4,
 "nbformat_minor": 4
}
